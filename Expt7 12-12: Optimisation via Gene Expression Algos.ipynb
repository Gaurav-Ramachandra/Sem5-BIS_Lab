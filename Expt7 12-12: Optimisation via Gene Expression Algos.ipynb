{
  "nbformat": 4,
  "nbformat_minor": 0,
  "metadata": {
    "colab": {
      "provenance": [],
      "authorship_tag": "ABX9TyPqpfMTZLyUPPIzef9MfFLr",
      "include_colab_link": true
    },
    "kernelspec": {
      "name": "python3",
      "display_name": "Python 3"
    },
    "language_info": {
      "name": "python"
    }
  },
  "cells": [
    {
      "cell_type": "markdown",
      "metadata": {
        "id": "view-in-github",
        "colab_type": "text"
      },
      "source": [
        "<a href=\"https://colab.research.google.com/github/Gaurav-Ramachandra/Sem5-BIS_Lab/blob/main/Expt7%2012-12%3A%20Optimisation%20via%20Gene%20Expression%20Algos.ipynb\" target=\"_parent\"><img src=\"https://colab.research.google.com/assets/colab-badge.svg\" alt=\"Open In Colab\"/></a>"
      ]
    },
    {
      "cell_type": "code",
      "source": [
        "pip install sympy"
      ],
      "metadata": {
        "colab": {
          "base_uri": "https://localhost:8080/"
        },
        "id": "03lpPaQPt0qM",
        "outputId": "e72e48df-fe05-4e87-c36c-6e0ce9777125"
      },
      "execution_count": null,
      "outputs": [
        {
          "output_type": "stream",
          "name": "stdout",
          "text": [
            "Requirement already satisfied: sympy in /usr/local/lib/python3.10/dist-packages (1.13.1)\n",
            "Requirement already satisfied: mpmath<1.4,>=1.1.0 in /usr/local/lib/python3.10/dist-packages (from sympy) (1.3.0)\n"
          ]
        }
      ]
    },
    {
      "cell_type": "code",
      "source": [
        "import random\n",
        "import numpy as np\n",
        "from sympy import sympify, lambdify\n",
        "\n",
        "# Define a basic set of functions and terminals for the GEP algorithm\n",
        "functions = ['+', '-', '*', '/']\n",
        "terminals = ['x', 'y', '1', '2', '3']\n",
        "\n",
        "# Example fitness function - the goal is to minimize the error between the generated expression and a target output\n",
        "def fitness_function(individual, x_val, y_val):\n",
        "    try:\n",
        "        result = evaluate_expression(individual, x_val, y_val)\n",
        "        target = x_val * y_val  # Example target function\n",
        "        return abs(result - target)\n",
        "    except ZeroDivisionError:\n",
        "        return 1000  # A high but finite penalty\n",
        "\n",
        "def evaluate_expression(individual, x_val, y_val):\n",
        "    try:\n",
        "        expr = sympify(individual)\n",
        "        func = lambdify(['x', 'y'], expr)\n",
        "        return func(x_val, y_val)\n",
        "    except Exception as e:\n",
        "        return float('inf')  # Handle various exceptions\n",
        "\n",
        "def initialize_population(pop_size, max_depth):\n",
        "    population = []\n",
        "    for _ in range(pop_size):\n",
        "        individual = generate_random_expression(max_depth)\n",
        "        population.append(individual)\n",
        "    return population\n",
        "\n",
        "def generate_random_expression(max_depth):\n",
        "    if max_depth == 0:\n",
        "        return random.choice(terminals)\n",
        "    else:\n",
        "        func = random.choice(functions)\n",
        "        left = generate_random_expression(max_depth - 1)\n",
        "        right = generate_random_expression(max_depth - 1)\n",
        "        return f\"({left} {func} {right})\"\n",
        "\n",
        "def selection(population, fitness_scores):\n",
        "    # Tournament selection\n",
        "    tournament_size = 5\n",
        "    selected_individuals = []\n",
        "    for _ in range(2):  # Select two parents\n",
        "        tournament_participants = random.sample(population, tournament_size)\n",
        "        tournament_fitness = [fitness_function(ind, x_val, y_val) for ind in tournament_participants]\n",
        "        best_index = tournament_fitness.index(min(tournament_fitness))\n",
        "        selected_individuals.append(tournament_participants[best_index])\n",
        "    return selected_individuals\n",
        "\n",
        "def crossover(parent1, parent2):\n",
        "    # Two-point crossover\n",
        "    point1 = random.randint(1, len(parent1) - 2)\n",
        "    point2 = random.randint(point1 + 1, len(parent1) - 1)\n",
        "    offspring1 = parent1[:point1] + parent2[point1:point2] + parent1[point2:]\n",
        "    offspring2 = parent2[:point1] + parent1[point1:point2] + parent2[point2:]\n",
        "    return offspring1, offspring2\n",
        "\n",
        "def mutation(individual, max_depth):\n",
        "    point = random.randint(1, len(individual) - 1)\n",
        "    mutated_part = generate_random_expression(max_depth - 1)\n",
        "    return individual[:point] + mutated_part\n",
        "\n",
        "def gene_expression_programming(pop_size, max_depth, max_generations, x_val, y_val):\n",
        "    population = initialize_population(pop_size, max_depth)\n",
        "    best_individual = None\n",
        "    best_fitness = float('inf')\n",
        "    final_generation = 0\n",
        "\n",
        "    for generation in range(max_generations):\n",
        "        fitness_scores = [fitness_function(individual, x_val, y_val) for individual in population]\n",
        "\n",
        "        best_generation_fitness = min(fitness_scores)\n",
        "        best_generation_individual = population[fitness_scores.index(best_generation_fitness)]\n",
        "\n",
        "        if best_generation_fitness < best_fitness:\n",
        "            best_fitness = best_generation_fitness\n",
        "            best_individual = best_generation_individual\n",
        "            final_generation = generation + 1\n",
        "\n",
        "        if best_fitness == 0:  # Early stopping\n",
        "            break\n",
        "\n",
        "        parent1, parent2 = selection(population, fitness_scores)\n",
        "        offspring1, offspring2 = crossover(parent1, parent2)\n",
        "\n",
        "        if random.random() < 0.1:\n",
        "            offspring1 = mutation(offspring1, max_depth)\n",
        "        if random.random() < 0.1:\n",
        "            offspring2 = mutation(offspring2, max_depth)\n",
        "\n",
        "        population = population[:pop_size // 2] + [offspring1, offspring2]\n",
        "\n",
        "    return best_individual, best_fitness, final_generation\n",
        "\n",
        "# Get user inputs\n",
        "pop_size = int(input(\"Enter population size: \"))\n",
        "max_depth = int(input(\"Enter maximum depth of expressions: \"))\n",
        "max_generations = int(input(\"Enter maximum number of generations: \"))\n",
        "x_val = float(input(\"Enter value for x (e.g., 1): \"))\n",
        "y_val = float(input(\"Enter value for y (e.g., 2): \"))\n",
        "\n",
        "# Run GEP algorithm\n",
        "best_solution, best_fitness, final_generation = gene_expression_programming(pop_size, max_depth, max_generations, x_val, y_val)\n",
        "\n",
        "# Output the best solution\n",
        "print(f\"Best Solution: {best_solution} | Fitness: {best_fitness} | Generation: {final_generation}\")\n"
      ],
      "metadata": {
        "colab": {
          "base_uri": "https://localhost:8080/"
        },
        "id": "quXcXmfdtz8S",
        "outputId": "e6ead36b-2a89-49cd-94d7-06c3222ab449"
      },
      "execution_count": null,
      "outputs": [
        {
          "output_type": "stream",
          "name": "stdout",
          "text": [
            "Enter population size: 20\n",
            "Enter maximum depth of expressions: 3\n",
            "Enter maximum number of generations: 100\n",
            "Enter value for x (e.g., 1): 2\n",
            "Enter value for y (e.g., 2): 3\n",
            "Best Solution: (((2 - x) + (y * x)) - ((1 - 1) * (y * 1))) | Fitness: 0.0 | Generation: 44\n"
          ]
        }
      ]
    },
    {
      "cell_type": "code",
      "source": [],
      "metadata": {
        "id": "NtkouRHuyGH1"
      },
      "execution_count": null,
      "outputs": []
    }
  ]
}