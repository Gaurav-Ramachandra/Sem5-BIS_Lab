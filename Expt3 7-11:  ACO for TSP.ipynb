{
  "nbformat": 4,
  "nbformat_minor": 0,
  "metadata": {
    "colab": {
      "provenance": [],
      "authorship_tag": "ABX9TyN8pKcHzAEl/kZZgJd/jFjD",
      "include_colab_link": true
    },
    "kernelspec": {
      "name": "python3",
      "display_name": "Python 3"
    },
    "language_info": {
      "name": "python"
    }
  },
  "cells": [
    {
      "cell_type": "markdown",
      "metadata": {
        "id": "view-in-github",
        "colab_type": "text"
      },
      "source": [
        "<a href=\"https://colab.research.google.com/github/Gaurav-Ramachandra/Sem5-BIS_Lab/blob/main/Expt3%207-11%3A%20%20ACO%20for%20TSP.ipynb\" target=\"_parent\"><img src=\"https://colab.research.google.com/assets/colab-badge.svg\" alt=\"Open In Colab\"/></a>"
      ]
    },
    {
      "cell_type": "code",
      "execution_count": null,
      "metadata": {
        "colab": {
          "base_uri": "https://localhost:8080/"
        },
        "id": "iDUVWx1bd-T7",
        "outputId": "9b11df1b-b78e-404c-d391-e104a8e28190"
      },
      "outputs": [
        {
          "output_type": "stream",
          "name": "stdout",
          "text": [
            "Best path found: [2, 0, 1, 4, 3, 2]\n",
            "Path length: 9\n"
          ]
        }
      ],
      "source": [
        "import numpy as np\n",
        "import random\n",
        "\n",
        "class AntColony:\n",
        "    def __init__(self, distances, num_ants, num_iterations, decay, alpha=1, beta=2, Q=1):\n",
        "        self.distances = distances                  # Distance matrix\n",
        "        self.pheromone = np.ones(self.distances.shape) / len(distances)  # Initial pheromone levels\n",
        "        self.num_ants = num_ants                    # Number of ants\n",
        "        self.num_iterations = num_iterations        # Number of iterations\n",
        "        self.decay = decay                          # Pheromone decay rate\n",
        "        self.alpha = alpha                          # Influence of pheromone\n",
        "        self.beta = beta                            # Influence of distance\n",
        "        self.Q = Q                                  # Pheromone constant\n",
        "\n",
        "    def run(self):\n",
        "        best_path = None\n",
        "        best_length = float(\"inf\")\n",
        "\n",
        "        for _ in range(self.num_iterations):\n",
        "            all_paths = self.construct_solutions()  # Construct solutions for all ants\n",
        "            self.spread_pheromone(all_paths)        # Update pheromone levels\n",
        "            shortest_path, shortest_length = min(all_paths, key=lambda x: x[1])\n",
        "\n",
        "            # Update global best path\n",
        "            if shortest_length < best_length:\n",
        "                best_path = shortest_path\n",
        "                best_length = shortest_length\n",
        "\n",
        "            # Evaporate some pheromones\n",
        "            self.pheromone *= (1 - self.decay)\n",
        "\n",
        "        return best_path, best_length\n",
        "\n",
        "    def construct_solutions(self):\n",
        "        all_paths = []\n",
        "        for _ in range(self.num_ants):\n",
        "            path = self.construct_path()\n",
        "            path_length = self.calculate_path_length(path)\n",
        "            all_paths.append((path, path_length))\n",
        "        return all_paths\n",
        "\n",
        "    def construct_path(self):\n",
        "        path = []\n",
        "        visited = set()\n",
        "        current_city = random.randint(0, len(self.distances) - 1)\n",
        "        path.append(current_city)\n",
        "        visited.add(current_city)\n",
        "\n",
        "        while len(visited) < len(self.distances):\n",
        "            next_city = self.choose_next_city(current_city, visited)\n",
        "            path.append(next_city)\n",
        "            visited.add(next_city)\n",
        "            current_city = next_city\n",
        "\n",
        "        path.append(path[0])  # Return to the starting city to complete the tour\n",
        "        return path\n",
        "\n",
        "    def choose_next_city(self, current_city, visited):\n",
        "        probabilities = []\n",
        "        for next_city in range(len(self.distances)):\n",
        "            if next_city not in visited:\n",
        "                pheromone = self.pheromone[current_city][next_city] ** self.alpha\n",
        "                visibility = (1 / self.distances[current_city][next_city]) ** self.beta\n",
        "                probabilities.append(pheromone * visibility)\n",
        "            else:\n",
        "                probabilities.append(0)\n",
        "\n",
        "        total = sum(probabilities)\n",
        "        if total == 0:\n",
        "            return random.choice([city for city in range(len(self.distances)) if city not in visited])\n",
        "\n",
        "        probabilities = [prob / total for prob in probabilities]\n",
        "        return np.random.choice(range(len(self.distances)), p=probabilities)\n",
        "\n",
        "    def calculate_path_length(self, path):\n",
        "        length = 0\n",
        "        for i in range(len(path) - 1):\n",
        "            length += self.distances[path[i]][path[i + 1]]\n",
        "        return length\n",
        "\n",
        "    def spread_pheromone(self, all_paths):\n",
        "        for path, path_length in all_paths:\n",
        "            for i in range(len(path) - 1):\n",
        "                from_city = path[i]\n",
        "                to_city = path[i + 1]\n",
        "                self.pheromone[from_city][to_city] += self.Q / path_length\n",
        "                self.pheromone[to_city][from_city] += self.Q / path_length\n",
        "\n",
        "# Example Usage\n",
        "if __name__ == \"__main__\":\n",
        "    # Distance matrix representing distances between 5 cities\n",
        "    distances = np.array([\n",
        "        [0, 2, 2, 5, 7],\n",
        "        [2, 0, 4, 8, 2],\n",
        "        [2, 4, 0, 1, 3],\n",
        "        [5, 8, 1, 0, 2],\n",
        "        [7, 2, 3, 2, 0]\n",
        "    ])\n",
        "\n",
        "    # Initialize parameters\n",
        "    num_ants = 10\n",
        "    num_iterations = 100\n",
        "    decay = 0.5\n",
        "    alpha = 1\n",
        "    beta = 2\n",
        "    Q = 1\n",
        "\n",
        "    # Run ACO\n",
        "    aco = AntColony(distances, num_ants, num_iterations, decay, alpha, beta, Q)\n",
        "    best_path, best_length = aco.run()\n",
        "\n",
        "    # Output results\n",
        "    print(\"Best path found:\", best_path)\n",
        "    print(\"Path length:\", best_length)\n"
      ]
    },
    {
      "cell_type": "code",
      "source": [],
      "metadata": {
        "id": "kS4-bQeveGTy"
      },
      "execution_count": null,
      "outputs": []
    }
  ]
}